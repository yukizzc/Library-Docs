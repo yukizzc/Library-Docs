{
 "cells": [
  {
   "cell_type": "code",
   "execution_count": 1,
   "id": "e747d51b",
   "metadata": {},
   "outputs": [],
   "source": [
    "from bs4 import BeautifulSoup\n",
    "import requests\n",
    "# 原始网页文件\n",
    "file = open('./bs.html', 'rb') \n",
    "html = file.read() \n",
    "# 如果是网页的话这种方式获取,这里做范例用本地文件来读取\n",
    "# url = r'http://guba.eastmoney.com/'  \n",
    "# r = requests.get(url)  \n",
    "# html = r.text  "
   ]
  },
  {
   "cell_type": "code",
   "execution_count": 2,
   "id": "51884d75",
   "metadata": {},
   "outputs": [],
   "source": [
    "# 解析\n",
    "soup = BeautifulSoup(html,\"html.parser\")"
   ]
  },
  {
   "cell_type": "code",
   "execution_count": 3,
   "id": "ba3e4bf4",
   "metadata": {},
   "outputs": [
    {
     "data": {
      "text/plain": [
       "<!DOCTYPE html>\n",
       "\n",
       "<html>\n",
       "<head>\n",
       "<meta content=\"text/html;charset=utf-8\" http-equiv=\"content-type\"/>\n",
       "<meta content=\"IE=Edge\" http-equiv=\"X-UA-Compatible\"/>\n",
       "<meta content=\"always\" name=\"referrer\"/>\n",
       "<link href=\"https://ss1.bdstatic.com/5eN1bjq8AAUYm2zgoY3K/r/www/cache/bdorz/baidu.min.css\" rel=\"stylesheet\" type=\"text/css\"/>\n",
       "<title>百度一下，你就知道 </title>\n",
       "</head>\n",
       "<body link=\"#0000cc\">\n",
       "<div id=\"wrapper\">\n",
       "<div id=\"head\">\n",
       "<div class=\"head_wrapper\">\n",
       "<div id=\"u1\">\n",
       "<a class=\"mnav\" href=\"http://news.baidu.com\" name=\"tj_trnews\">新闻 </a>\n",
       "<a class=\"mnav\" href=\"https://www.hao123.com\" name=\"tj_trhao123\">hao123 </a>\n",
       "<a class=\"mnav\" href=\"http://map.baidu.com\" name=\"tj_trmap\">地图 </a>\n",
       "<a class=\"mnav\" href=\"http://v.baidu.com\" name=\"tj_trvideo\">视频 </a>\n",
       "<a class=\"mnav\" href=\"http://tieba.baidu.com\" name=\"tj_trtieba\">贴吧 </a>\n",
       "<a class=\"bri\" href=\"//www.baidu.com/more/\" name=\"tj_briicon\" style=\"display: block;\">更多产品 </a>\n",
       "</div>\n",
       "</div>\n",
       "</div>\n",
       "</div>\n",
       "</body>\n",
       "</html>"
      ]
     },
     "execution_count": 3,
     "metadata": {},
     "output_type": "execute_result"
    }
   ],
   "source": [
    "soup"
   ]
  },
  {
   "cell_type": "code",
   "execution_count": 6,
   "id": "1077d119",
   "metadata": {},
   "outputs": [
    {
     "name": "stdout",
     "output_type": "stream",
     "text": [
      "<a class=\"mnav\" href=\"http://news.baidu.com\" name=\"tj_trnews\">新闻 </a>\n",
      "{'class': ['mnav'], 'href': 'http://news.baidu.com', 'name': 'tj_trnews'}\n",
      "http://news.baidu.com tj_trnews 新闻 \n",
      "--------------------------------------------------\n",
      "<a class=\"mnav\" href=\"https://www.hao123.com\" name=\"tj_trhao123\">hao123 </a>\n",
      "{'class': ['mnav'], 'href': 'https://www.hao123.com', 'name': 'tj_trhao123'}\n",
      "https://www.hao123.com tj_trhao123 hao123 \n",
      "--------------------------------------------------\n",
      "<a class=\"mnav\" href=\"http://map.baidu.com\" name=\"tj_trmap\">地图 </a>\n",
      "{'class': ['mnav'], 'href': 'http://map.baidu.com', 'name': 'tj_trmap'}\n",
      "http://map.baidu.com tj_trmap 地图 \n",
      "--------------------------------------------------\n",
      "<a class=\"mnav\" href=\"http://v.baidu.com\" name=\"tj_trvideo\">视频 </a>\n",
      "{'class': ['mnav'], 'href': 'http://v.baidu.com', 'name': 'tj_trvideo'}\n",
      "http://v.baidu.com tj_trvideo 视频 \n",
      "--------------------------------------------------\n",
      "<a class=\"mnav\" href=\"http://tieba.baidu.com\" name=\"tj_trtieba\">贴吧 </a>\n",
      "{'class': ['mnav'], 'href': 'http://tieba.baidu.com', 'name': 'tj_trtieba'}\n",
      "http://tieba.baidu.com tj_trtieba 贴吧 \n",
      "--------------------------------------------------\n",
      "<a class=\"bri\" href=\"//www.baidu.com/more/\" name=\"tj_briicon\" style=\"display: block;\">更多产品 </a>\n",
      "{'class': ['bri'], 'href': '//www.baidu.com/more/', 'name': 'tj_briicon', 'style': 'display: block;'}\n",
      "//www.baidu.com/more/ tj_briicon 更多产品 \n",
      "--------------------------------------------------\n"
     ]
    }
   ],
   "source": [
    "# 获取指定标签里的属性以及文字内容\n",
    "for i in soup.find_all('a'):\n",
    "    print(i)\n",
    "    print(i.attrs)\n",
    "    print(i['href'],i['name'],i.string)\n",
    "    print('--------------------------------------------------')"
   ]
  },
  {
   "cell_type": "code",
   "execution_count": 7,
   "id": "10bbc670",
   "metadata": {},
   "outputs": [
    {
     "data": {
      "text/plain": [
       "[<div id=\"wrapper\">\n",
       " <div id=\"head\">\n",
       " <div class=\"head_wrapper\">\n",
       " <div id=\"u1\">\n",
       " <a class=\"mnav\" href=\"http://news.baidu.com\" name=\"tj_trnews\">新闻 </a>\n",
       " <a class=\"mnav\" href=\"https://www.hao123.com\" name=\"tj_trhao123\">hao123 </a>\n",
       " <a class=\"mnav\" href=\"http://map.baidu.com\" name=\"tj_trmap\">地图 </a>\n",
       " <a class=\"mnav\" href=\"http://v.baidu.com\" name=\"tj_trvideo\">视频 </a>\n",
       " <a class=\"mnav\" href=\"http://tieba.baidu.com\" name=\"tj_trtieba\">贴吧 </a>\n",
       " <a class=\"bri\" href=\"//www.baidu.com/more/\" name=\"tj_briicon\" style=\"display: block;\">更多产品 </a>\n",
       " </div>\n",
       " </div>\n",
       " </div>\n",
       " </div>]"
      ]
     },
     "execution_count": 7,
     "metadata": {},
     "output_type": "execute_result"
    }
   ],
   "source": [
    "# 获取指定id的div模块\n",
    "div = soup.find_all('div',id=\"wrapper\")\n",
    "div"
   ]
  },
  {
   "cell_type": "code",
   "execution_count": 8,
   "id": "4c5da511",
   "metadata": {},
   "outputs": [
    {
     "data": {
      "text/plain": [
       "[<a class=\"mnav\" href=\"http://news.baidu.com\" name=\"tj_trnews\">新闻 </a>,\n",
       " <a class=\"mnav\" href=\"https://www.hao123.com\" name=\"tj_trhao123\">hao123 </a>,\n",
       " <a class=\"mnav\" href=\"http://map.baidu.com\" name=\"tj_trmap\">地图 </a>,\n",
       " <a class=\"mnav\" href=\"http://v.baidu.com\" name=\"tj_trvideo\">视频 </a>,\n",
       " <a class=\"mnav\" href=\"http://tieba.baidu.com\" name=\"tj_trtieba\">贴吧 </a>]"
      ]
     },
     "execution_count": 8,
     "metadata": {},
     "output_type": "execute_result"
    }
   ],
   "source": [
    "# 获取指定calss的a模块\n",
    "div2 = soup.find_all('a',class_=\"mnav\")\n",
    "div2"
   ]
  },
  {
   "cell_type": "code",
   "execution_count": 9,
   "id": "c489997f",
   "metadata": {},
   "outputs": [
    {
     "data": {
      "text/plain": [
       "(<a class=\"mnav\" href=\"http://news.baidu.com\" name=\"tj_trnews\">新闻 </a>,\n",
       " <a class=\"mnav\" href=\"https://www.hao123.com\" name=\"tj_trhao123\">hao123 </a>,\n",
       " 5)"
      ]
     },
     "execution_count": 9,
     "metadata": {},
     "output_type": "execute_result"
    }
   ],
   "source": [
    "# 多个结果可以当成列表来取出\n",
    "div2[0],div2[1],len(div2)"
   ]
  },
  {
   "cell_type": "markdown",
   "id": "e0494709",
   "metadata": {},
   "source": [
    "# 先根据某个标签属性提取数据后再进行soup"
   ]
  },
  {
   "cell_type": "code",
   "execution_count": 10,
   "id": "d9296367",
   "metadata": {},
   "outputs": [
    {
     "data": {
      "text/plain": [
       "[<div id=\"wrapper\">\n",
       "<div id=\"head\">\n",
       "<div class=\"head_wrapper\">\n",
       "<div id=\"u1\">\n",
       "<a class=\"mnav\" href=\"http://news.baidu.com\" name=\"tj_trnews\">新闻 </a>\n",
       "<a class=\"mnav\" href=\"https://www.hao123.com\" name=\"tj_trhao123\">hao123 </a>\n",
       "<a class=\"mnav\" href=\"http://map.baidu.com\" name=\"tj_trmap\">地图 </a>\n",
       "<a class=\"mnav\" href=\"http://v.baidu.com\" name=\"tj_trvideo\">视频 </a>\n",
       "<a class=\"mnav\" href=\"http://tieba.baidu.com\" name=\"tj_trtieba\">贴吧 </a>\n",
       "<a class=\"bri\" href=\"//www.baidu.com/more/\" name=\"tj_briicon\" style=\"display: block;\">更多产品 </a>\n",
       "</div>\n",
       "</div>\n",
       "</div>\n",
       "</div>]"
      ]
     },
     "execution_count": 10,
     "metadata": {},
     "output_type": "execute_result"
    }
   ],
   "source": [
    "# 把结果转换成字符串然后再用BeautifulSoup解析\n",
    "soup2 = BeautifulSoup(str(div),\"html.parser\")\n",
    "soup2"
   ]
  },
  {
   "cell_type": "code",
   "execution_count": null,
   "id": "cf8c6311",
   "metadata": {},
   "outputs": [],
   "source": []
  }
 ],
 "metadata": {
  "kernelspec": {
   "display_name": "Python 3",
   "language": "python",
   "name": "python3"
  },
  "language_info": {
   "codemirror_mode": {
    "name": "ipython",
    "version": 3
   },
   "file_extension": ".py",
   "mimetype": "text/x-python",
   "name": "python",
   "nbconvert_exporter": "python",
   "pygments_lexer": "ipython3",
   "version": "3.8.8"
  }
 },
 "nbformat": 4,
 "nbformat_minor": 5
}

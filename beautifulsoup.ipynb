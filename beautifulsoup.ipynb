{
 "cells": [
  {
   "cell_type": "code",
   "execution_count": 1,
   "id": "e747d51b",
   "metadata": {},
   "outputs": [],
   "source": [
    "from bs4 import BeautifulSoup\n",
    "import requests\n",
    "# 原始网页文件\n",
    "file = open('./bs.html', 'rb') \n",
    "html = file.read() \n",
    "# 如果是网页的话这种方式获取,这里做范例用本地文件来读取\n",
    "# url = r'http://guba.eastmoney.com/'  \n",
    "# r = requests.get(url)  \n",
    "# html = r.text  "
   ]
  },
  {
   "cell_type": "code",
   "execution_count": 2,
   "id": "51884d75",
   "metadata": {},
   "outputs": [],
   "source": [
    "# 解析\n",
    "soup = BeautifulSoup(html,\"html.parser\")"
   ]
  },
  {
   "cell_type": "code",
   "execution_count": 3,
   "id": "ba3e4bf4",
   "metadata": {},
   "outputs": [
    {
     "data": {
      "text/plain": [
       "<!DOCTYPE html>\n",
       "\n",
       "<html>\n",
       "<head>\n",
       "<meta content=\"text/html;charset=utf-8\" http-equiv=\"content-type\"/>\n",
       "<meta content=\"IE=Edge\" http-equiv=\"X-UA-Compatible\"/>\n",
       "<meta content=\"always\" name=\"referrer\"/>\n",
       "<link href=\"https://ss1.bdstatic.com/5eN1bjq8AAUYm2zgoY3K/r/www/cache/bdorz/baidu.min.css\" rel=\"stylesheet\" type=\"text/css\"/>\n",
       "<title>百度一下，你就知道 </title>\n",
       "</head>\n",
       "<body link=\"#0000cc\">\n",
       "<div id=\"wrapper\">\n",
       "<div id=\"head\">\n",
       "<div class=\"head_wrapper\">\n",
       "<div id=\"u1\">\n",
       "<a class=\"mnav\" href=\"http://news.baidu.com\" name=\"tj_trnews\">新闻 </a>\n",
       "<a class=\"mnav\" href=\"https://www.hao123.com\" name=\"tj_trhao123\">hao123 </a>\n",
       "<a class=\"mnav\" href=\"http://map.baidu.com\" name=\"tj_trmap\">地图 </a>\n",
       "<a class=\"mnav\" href=\"http://v.baidu.com\" name=\"tj_trvideo\">视频 </a>\n",
       "<a class=\"mnav\" href=\"http://tieba.baidu.com\" name=\"tj_trtieba\">贴吧 </a>\n",
       "<a class=\"bri\" href=\"//www.baidu.com/more/\" name=\"tj_briicon\" style=\"display: block;\">更多产品 </a>\n",
       "</div>\n",
       "</div>\n",
       "</div>\n",
       "</div>\n",
       "</body>\n",
       "</html>"
      ]
     },
     "execution_count": 3,
     "metadata": {},
     "output_type": "execute_result"
    }
   ],
   "source": [
    "soup"
   ]
  },
  {
   "cell_type": "code",
   "execution_count": 4,
   "id": "1077d119",
   "metadata": {},
   "outputs": [
    {
     "name": "stdout",
     "output_type": "stream",
     "text": [
      "<a class=\"mnav\" href=\"http://news.baidu.com\" name=\"tj_trnews\">新闻 </a>\n",
      "{'class': ['mnav'], 'href': 'http://news.baidu.com', 'name': 'tj_trnews'}\n",
      "http://news.baidu.com tj_trnews 新闻  新闻 \n",
      "--------------------------------------------------\n",
      "<a class=\"mnav\" href=\"https://www.hao123.com\" name=\"tj_trhao123\">hao123 </a>\n",
      "{'class': ['mnav'], 'href': 'https://www.hao123.com', 'name': 'tj_trhao123'}\n",
      "https://www.hao123.com tj_trhao123 hao123  hao123 \n",
      "--------------------------------------------------\n",
      "<a class=\"mnav\" href=\"http://map.baidu.com\" name=\"tj_trmap\">地图 </a>\n",
      "{'class': ['mnav'], 'href': 'http://map.baidu.com', 'name': 'tj_trmap'}\n",
      "http://map.baidu.com tj_trmap 地图  地图 \n",
      "--------------------------------------------------\n",
      "<a class=\"mnav\" href=\"http://v.baidu.com\" name=\"tj_trvideo\">视频 </a>\n",
      "{'class': ['mnav'], 'href': 'http://v.baidu.com', 'name': 'tj_trvideo'}\n",
      "http://v.baidu.com tj_trvideo 视频  视频 \n",
      "--------------------------------------------------\n",
      "<a class=\"mnav\" href=\"http://tieba.baidu.com\" name=\"tj_trtieba\">贴吧 </a>\n",
      "{'class': ['mnav'], 'href': 'http://tieba.baidu.com', 'name': 'tj_trtieba'}\n",
      "http://tieba.baidu.com tj_trtieba 贴吧  贴吧 \n",
      "--------------------------------------------------\n",
      "<a class=\"bri\" href=\"//www.baidu.com/more/\" name=\"tj_briicon\" style=\"display: block;\">更多产品 </a>\n",
      "{'class': ['bri'], 'href': '//www.baidu.com/more/', 'name': 'tj_briicon', 'style': 'display: block;'}\n",
      "//www.baidu.com/more/ tj_briicon 更多产品  更多产品 \n",
      "--------------------------------------------------\n"
     ]
    }
   ],
   "source": [
    "# 获取指定标签里的属性以及文字内容\n",
    "for i in soup.find_all('a'):\n",
    "    print(i)\n",
    "    print(i.attrs)\n",
    "    print(i['href'],i['name'],i.string,i.text)\n",
    "    print('--------------------------------------------------')"
   ]
  },
  {
   "cell_type": "code",
   "execution_count": 5,
   "id": "8e946c79-1411-4904-941e-1ed3f576b9b7",
   "metadata": {},
   "outputs": [
    {
     "data": {
      "text/plain": [
       "[<a class=\"mnav\" href=\"http://news.baidu.com\" name=\"tj_trnews\">新闻 </a>,\n",
       " <a class=\"mnav\" href=\"https://www.hao123.com\" name=\"tj_trhao123\">hao123 </a>,\n",
       " <a class=\"mnav\" href=\"http://map.baidu.com\" name=\"tj_trmap\">地图 </a>,\n",
       " <a class=\"mnav\" href=\"http://v.baidu.com\" name=\"tj_trvideo\">视频 </a>,\n",
       " <a class=\"mnav\" href=\"http://tieba.baidu.com\" name=\"tj_trtieba\">贴吧 </a>]"
      ]
     },
     "execution_count": 5,
     "metadata": {},
     "output_type": "execute_result"
    }
   ],
   "source": [
    "# 获取指定calss的a模块\n",
    "div2 = soup.find_all('a',class_=\"mnav\")\n",
    "div2"
   ]
  },
  {
   "cell_type": "code",
   "execution_count": 6,
   "id": "194c8959-fd80-402d-b94a-84a1adf59d2c",
   "metadata": {},
   "outputs": [
    {
     "data": {
      "text/plain": [
       "(<a class=\"mnav\" href=\"http://news.baidu.com\" name=\"tj_trnews\">新闻 </a>,\n",
       " <a class=\"mnav\" href=\"https://www.hao123.com\" name=\"tj_trhao123\">hao123 </a>,\n",
       " 5)"
      ]
     },
     "execution_count": 6,
     "metadata": {},
     "output_type": "execute_result"
    }
   ],
   "source": [
    "# 多个结果可以当成列表来取出\n",
    "div2[0],div2[1],len(div2)"
   ]
  },
  {
   "cell_type": "code",
   "execution_count": 7,
   "id": "26e3e09d-960f-4abc-9243-c35adc3b0f7c",
   "metadata": {},
   "outputs": [
    {
     "data": {
      "text/plain": [
       "[<div id=\"wrapper\">\n",
       " <div id=\"head\">\n",
       " <div class=\"head_wrapper\">\n",
       " <div id=\"u1\">\n",
       " <a class=\"mnav\" href=\"http://news.baidu.com\" name=\"tj_trnews\">新闻 </a>\n",
       " <a class=\"mnav\" href=\"https://www.hao123.com\" name=\"tj_trhao123\">hao123 </a>\n",
       " <a class=\"mnav\" href=\"http://map.baidu.com\" name=\"tj_trmap\">地图 </a>\n",
       " <a class=\"mnav\" href=\"http://v.baidu.com\" name=\"tj_trvideo\">视频 </a>\n",
       " <a class=\"mnav\" href=\"http://tieba.baidu.com\" name=\"tj_trtieba\">贴吧 </a>\n",
       " <a class=\"bri\" href=\"//www.baidu.com/more/\" name=\"tj_briicon\" style=\"display: block;\">更多产品 </a>\n",
       " </div>\n",
       " </div>\n",
       " </div>\n",
       " </div>]"
      ]
     },
     "execution_count": 7,
     "metadata": {},
     "output_type": "execute_result"
    }
   ],
   "source": [
    "# 获取指定id的div模块\n",
    "div = soup.find_all('div',id=\"wrapper\")\n",
    "div"
   ]
  },
  {
   "cell_type": "markdown",
   "id": "978aa00c-7dea-47ae-823b-85a1cbc37d6c",
   "metadata": {},
   "source": [
    "# string和text标签区别"
   ]
  },
  {
   "cell_type": "markdown",
   "id": "d662650e-37d9-4d8c-81e6-9253db528da2",
   "metadata": {},
   "source": [
    "对于就是标签内只有不含有其他标签子节点，那么这个 tag 可以使用 result.string 得到文本，也可以用 result.text 获得文本\n",
    "如果 tag 包含了多个子节点，tag 就无法确定 result.string 方法应该调用哪个子节点的内容, result.string 的输出结果是 None\n",
    "下面例子中，第三个span里面有一个子节点a，所以string就拿不到了"
   ]
  },
  {
   "cell_type": "code",
   "execution_count": 8,
   "id": "d0f62829-331f-49ea-bfca-3091aa5b3e2a",
   "metadata": {},
   "outputs": [],
   "source": [
    "string_text = '''<span style=\"color:#F00F00\">锂电池</span>+\n",
    "'<span style=\"color:#F00F00\">点评：今天整体不弱，但连板数量较少，唯一的四板中午还开板了一下，说明市场对于锂电方向更偏向于趋势股，短期投机追高意愿不足。</span>+\n",
    "'<span style=\"color:#F00F00\">风电<a class=\"ycCss\" href=\"https://www.taoguba.com.cn/new/stockbar/barRedirect?stockName=%E6%96%B0%E8%83%BD%E6%BA%90\" rel=\"nofollow\" style=\"color:#333;border-bottom:1px dotted #333;\" target=\"_blank\">新能源</a></span>'''"
   ]
  },
  {
   "cell_type": "code",
   "execution_count": 9,
   "id": "35b75efa-79cb-4ae1-b9b0-270b2f14da1d",
   "metadata": {},
   "outputs": [
    {
     "name": "stdout",
     "output_type": "stream",
     "text": [
      "锂电池\n",
      "点评：今天整体不弱，但连板数量较少，唯一的四板中午还开板了一下，说明市场对于锂电方向更偏向于趋势股，短期投机追高意愿不足。\n",
      "None\n"
     ]
    }
   ],
   "source": [
    "# 解析\n",
    "soup_text = BeautifulSoup(string_text,\"html.parser\")\n",
    "for i in soup_text.find_all('span'):\n",
    "    print(i.string)"
   ]
  },
  {
   "cell_type": "code",
   "execution_count": 10,
   "id": "22c63176-a847-46e9-99ba-3f568dabd4fd",
   "metadata": {},
   "outputs": [
    {
     "name": "stdout",
     "output_type": "stream",
     "text": [
      "锂电池\n",
      "点评：今天整体不弱，但连板数量较少，唯一的四板中午还开板了一下，说明市场对于锂电方向更偏向于趋势股，短期投机追高意愿不足。\n",
      "风电新能源\n"
     ]
    }
   ],
   "source": [
    "for i in soup_text.find_all('span'):\n",
    "    print(i.text)"
   ]
  },
  {
   "cell_type": "markdown",
   "id": "e0494709",
   "metadata": {},
   "source": [
    "# 先根据某个标签属性提取数据后再进行soup"
   ]
  },
  {
   "cell_type": "code",
   "execution_count": 11,
   "id": "d9296367",
   "metadata": {},
   "outputs": [
    {
     "data": {
      "text/plain": [
       "[<div id=\"wrapper\">\n",
       "<div id=\"head\">\n",
       "<div class=\"head_wrapper\">\n",
       "<div id=\"u1\">\n",
       "<a class=\"mnav\" href=\"http://news.baidu.com\" name=\"tj_trnews\">新闻 </a>\n",
       "<a class=\"mnav\" href=\"https://www.hao123.com\" name=\"tj_trhao123\">hao123 </a>\n",
       "<a class=\"mnav\" href=\"http://map.baidu.com\" name=\"tj_trmap\">地图 </a>\n",
       "<a class=\"mnav\" href=\"http://v.baidu.com\" name=\"tj_trvideo\">视频 </a>\n",
       "<a class=\"mnav\" href=\"http://tieba.baidu.com\" name=\"tj_trtieba\">贴吧 </a>\n",
       "<a class=\"bri\" href=\"//www.baidu.com/more/\" name=\"tj_briicon\" style=\"display: block;\">更多产品 </a>\n",
       "</div>\n",
       "</div>\n",
       "</div>\n",
       "</div>]"
      ]
     },
     "execution_count": 11,
     "metadata": {},
     "output_type": "execute_result"
    }
   ],
   "source": [
    "# 把结果转换成字符串然后再用BeautifulSoup解析\n",
    "soup2 = BeautifulSoup(str(div),\"html.parser\")\n",
    "soup2"
   ]
  },
  {
   "cell_type": "markdown",
   "id": "fc5d195b-2815-4b15-9feb-fa726b1fe6d8",
   "metadata": {},
   "source": [
    "# Script标签内获取json数据"
   ]
  },
  {
   "cell_type": "code",
   "execution_count": 12,
   "id": "c77e2673-ca2d-4053-9ce7-70907deeb092",
   "metadata": {},
   "outputs": [],
   "source": [
    "import json\n",
    "script_text = '''<script id=\"captain-config\" type=\"application/json\">\n",
    "{\"user\":{\"area\":\"上海\",\"seo\":[1,2,3],\"hasTongji\":true,\"name\":{\"姓\":\"liu\",\"名\":\"yanyan\"}}}\n",
    "</script>'''"
   ]
  },
  {
   "cell_type": "code",
   "execution_count": 13,
   "id": "499dca76-392a-4c13-85db-d84844132d39",
   "metadata": {},
   "outputs": [],
   "source": [
    "# 解析\n",
    "soup_script = BeautifulSoup(script_text,\"html.parser\")"
   ]
  },
  {
   "cell_type": "code",
   "execution_count": 14,
   "id": "f22c5580-9943-4928-afd1-396deb265854",
   "metadata": {},
   "outputs": [
    {
     "data": {
      "text/plain": [
       "<script id=\"captain-config\" type=\"application/json\">\n",
       "{\"user\":{\"area\":\"上海\",\"seo\":[1,2,3],\"hasTongji\":true,\"name\":{\"姓\":\"liu\",\"名\":\"yanyan\"}}}\n",
       "</script>"
      ]
     },
     "execution_count": 14,
     "metadata": {},
     "output_type": "execute_result"
    }
   ],
   "source": [
    "# 找到指定的script\n",
    "soup_script.find('script',{'id':\"captain-config\"})"
   ]
  },
  {
   "cell_type": "code",
   "execution_count": 15,
   "id": "98a9b87c-eea7-472d-a8a7-63823d3bef15",
   "metadata": {},
   "outputs": [],
   "source": [
    "a = soup_script.find('script', {\"id\":\"captain-config\"}).get_text()"
   ]
  },
  {
   "cell_type": "code",
   "execution_count": 16,
   "id": "b540d837-58be-438d-a5bd-94ff11f154d1",
   "metadata": {},
   "outputs": [
    {
     "data": {
      "text/plain": [
       "{'user': {'area': '上海',\n",
       "  'seo': [1, 2, 3],\n",
       "  'hasTongji': True,\n",
       "  'name': {'姓': 'liu', '名': 'yanyan'}}}"
      ]
     },
     "execution_count": 16,
     "metadata": {},
     "output_type": "execute_result"
    }
   ],
   "source": [
    "b = json.loads(a)\n",
    "b"
   ]
  },
  {
   "cell_type": "code",
   "execution_count": 17,
   "id": "98e09772-63d5-4eb9-b548-84e358ed99ab",
   "metadata": {},
   "outputs": [
    {
     "data": {
      "text/plain": [
       "{'姓': 'liu', '名': 'yanyan'}"
      ]
     },
     "execution_count": 17,
     "metadata": {},
     "output_type": "execute_result"
    }
   ],
   "source": [
    "b['user']['name']"
   ]
  },
  {
   "cell_type": "code",
   "execution_count": 18,
   "id": "a41955dd-ab4c-467c-89b4-8c99a414f9df",
   "metadata": {},
   "outputs": [
    {
     "data": {
      "text/plain": [
       "dict_keys(['area', 'seo', 'hasTongji', 'name'])"
      ]
     },
     "execution_count": 18,
     "metadata": {},
     "output_type": "execute_result"
    }
   ],
   "source": [
    "b['user'].keys()"
   ]
  }
 ],
 "metadata": {
  "kernelspec": {
   "display_name": "Python 3 (ipykernel)",
   "language": "python",
   "name": "python3"
  },
  "language_info": {
   "codemirror_mode": {
    "name": "ipython",
    "version": 3
   },
   "file_extension": ".py",
   "mimetype": "text/x-python",
   "name": "python",
   "nbconvert_exporter": "python",
   "pygments_lexer": "ipython3",
   "version": "3.10.2"
  }
 },
 "nbformat": 4,
 "nbformat_minor": 5
}

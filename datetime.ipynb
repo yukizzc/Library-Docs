{
 "cells": [
  {
   "cell_type": "markdown",
   "id": "ad3b76b2-e91c-420c-b7bf-c08c406a23f4",
   "metadata": {},
   "source": [
    "# 当前日期、日期时间"
   ]
  },
  {
   "cell_type": "code",
   "execution_count": 1,
   "id": "04185e83-0d7c-466c-a5e7-a01266351409",
   "metadata": {},
   "outputs": [
    {
     "data": {
      "text/plain": [
       "(datetime.date(2021, 5, 7), datetime.datetime(2021, 5, 7, 23, 30, 48, 345568))"
      ]
     },
     "execution_count": 1,
     "metadata": {},
     "output_type": "execute_result"
    }
   ],
   "source": [
    "import datetime\n",
    "a = datetime.date.today()\n",
    "b = datetime.datetime.today()\n",
    "a,b"
   ]
  },
  {
   "cell_type": "code",
   "execution_count": 2,
   "id": "cb5506ed-b66b-45a3-b0b7-b56ccd5e7607",
   "metadata": {},
   "outputs": [
    {
     "data": {
      "text/plain": [
       "(2021, 5, 7, 23, 30, 48)"
      ]
     },
     "execution_count": 2,
     "metadata": {},
     "output_type": "execute_result"
    }
   ],
   "source": [
    "b.year, b.month, b.day, b.hour, b.minute, b.second"
   ]
  },
  {
   "cell_type": "markdown",
   "id": "ab88a0bd-f0fa-40ac-b107-a7b15054ccba",
   "metadata": {},
   "source": [
    "# 日期和字符串转换"
   ]
  },
  {
   "cell_type": "code",
   "execution_count": 3,
   "id": "462a2b00-d8da-4555-b06b-bad00b93f39e",
   "metadata": {},
   "outputs": [
    {
     "data": {
      "text/plain": [
       "'2021-05-07 23:30:48'"
      ]
     },
     "execution_count": 3,
     "metadata": {},
     "output_type": "execute_result"
    }
   ],
   "source": [
    "# 日期转换成字符串\n",
    "to_str = datetime.datetime.today().strftime(\"%Y-%m-%d %H:%M:%S\")\n",
    "to_str"
   ]
  },
  {
   "cell_type": "code",
   "execution_count": 4,
   "id": "588864c2-07e6-4816-b157-e5eb64da3dae",
   "metadata": {},
   "outputs": [
    {
     "data": {
      "text/plain": [
       "datetime.datetime(2017, 1, 1, 10, 0)"
      ]
     },
     "execution_count": 4,
     "metadata": {},
     "output_type": "execute_result"
    }
   ],
   "source": [
    "# 字符串转换日期\n",
    "detester = '2017-01-01 10:00:00'\n",
    "date = datetime.datetime.strptime(detester,'%Y-%m-%d %H:%M:%S')\n",
    "date"
   ]
  },
  {
   "cell_type": "code",
   "execution_count": 5,
   "id": "75c5a35c-a072-4807-b617-ce0398a38da9",
   "metadata": {},
   "outputs": [
    {
     "data": {
      "text/plain": [
       "datetime.datetime(2019, 6, 13, 11, 12, 13)"
      ]
     },
     "execution_count": 5,
     "metadata": {},
     "output_type": "execute_result"
    }
   ],
   "source": [
    "# 数字转换日期\n",
    "from dateutil.parser import parse\n",
    "a = 20190613111213\n",
    "b = str(a)\n",
    "c = parse(b)\n",
    "c"
   ]
  },
  {
   "cell_type": "markdown",
   "id": "bfd2e28c-3b05-4ebd-9adc-43a45ec50da5",
   "metadata": {},
   "source": [
    "# 日期相加减"
   ]
  },
  {
   "cell_type": "code",
   "execution_count": 6,
   "id": "72007868-f97c-4a29-8696-a58eb8fef5a8",
   "metadata": {},
   "outputs": [
    {
     "data": {
      "text/plain": [
       "(datetime.timedelta(days=3, seconds=70), 3, 70, 259270.0)"
      ]
     },
     "execution_count": 6,
     "metadata": {},
     "output_type": "execute_result"
    }
   ],
   "source": [
    "d1 = datetime.datetime.strptime('2019-03-05 17:42:10', '%Y-%m-%d %H:%M:%S')\n",
    "d2 = datetime.datetime.strptime('2019-03-02 17:41:00', '%Y-%m-%d %H:%M:%S')\n",
    "delta = d1 - d2\n",
    "#timedelta对象,total_seconds返回折算成秒数\n",
    "delta, delta.days, delta.seconds, delta.total_seconds()"
   ]
  },
  {
   "cell_type": "markdown",
   "id": "3e449933-a511-40eb-b153-0a896cd9554c",
   "metadata": {},
   "source": [
    "# N天后日期"
   ]
  },
  {
   "cell_type": "code",
   "execution_count": 7,
   "id": "f16dccb1-a014-46f0-92e5-18aa0d07b4cb",
   "metadata": {},
   "outputs": [
    {
     "data": {
      "text/plain": [
       "'2021-05-11 00:33:00'"
      ]
     },
     "execution_count": 7,
     "metadata": {},
     "output_type": "execute_result"
    }
   ],
   "source": [
    "now = datetime.datetime.now()\n",
    "delta = datetime.timedelta(days=3,hours=1,minutes=2,seconds=12)\n",
    "n_days = now + delta\n",
    "n_days.strftime('%Y-%m-%d %H:%M:%S')"
   ]
  },
  {
   "cell_type": "markdown",
   "id": "cd7ade3a-1f5e-4c0b-aae4-4c6defbf557b",
   "metadata": {},
   "source": [
    "# 根据日期返回星期"
   ]
  },
  {
   "cell_type": "code",
   "execution_count": 8,
   "id": "0f5f5a55-f603-4130-a9bd-7bc0352985ff",
   "metadata": {},
   "outputs": [
    {
     "name": "stdout",
     "output_type": "stream",
     "text": [
      "2021-05-07 23:30:48.477770\n",
      "星期五\n"
     ]
    }
   ],
   "source": [
    "def get_week_day(date):\n",
    "    week_day_dict = {\n",
    "    0 : '星期一',\n",
    "    1 : '星期二',\n",
    "    2 : '星期三',\n",
    "    3 : '星期四',\n",
    "    4 : '星期五',\n",
    "    5 : '星期六',\n",
    "    6 : '星期天',\n",
    "    }\n",
    "    day = date.weekday()\n",
    "    return week_day_dict[day]\n",
    "\n",
    "print(datetime.datetime.now())\n",
    "print(get_week_day(datetime.datetime.now()))"
   ]
  },
  {
   "cell_type": "code",
   "execution_count": null,
   "id": "f6a99e8e-afd1-459a-8186-cffcbe223d1e",
   "metadata": {},
   "outputs": [],
   "source": []
  }
 ],
 "metadata": {
  "kernelspec": {
   "display_name": "Python 3",
   "language": "python",
   "name": "python3"
  },
  "language_info": {
   "codemirror_mode": {
    "name": "ipython",
    "version": 3
   },
   "file_extension": ".py",
   "mimetype": "text/x-python",
   "name": "python",
   "nbconvert_exporter": "python",
   "pygments_lexer": "ipython3",
   "version": "3.8.8"
  }
 },
 "nbformat": 4,
 "nbformat_minor": 5
}

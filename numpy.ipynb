{
 "cells": [
  {
   "cell_type": "code",
   "execution_count": 1,
   "id": "55126cc9-e6e4-487f-ba1c-e0bb460e2b4e",
   "metadata": {},
   "outputs": [],
   "source": [
    "import numpy as np"
   ]
  },
  {
   "cell_type": "markdown",
   "id": "20f3fed6-276c-42f5-b20f-88ae22a1d588",
   "metadata": {},
   "source": [
    "# 创建numpy"
   ]
  },
  {
   "cell_type": "code",
   "execution_count": 27,
   "id": "fb10e9c2-6d6e-4c5c-9bfe-1c092a4b38ac",
   "metadata": {},
   "outputs": [
    {
     "data": {
      "text/plain": [
       "((3,), (2, 3))"
      ]
     },
     "execution_count": 27,
     "metadata": {},
     "output_type": "execute_result"
    }
   ],
   "source": [
    "a = np.array([1, 2, 3])\n",
    "b = np.array([[1,2,3],[4,5,6]])\n",
    "a.shape, b.shape"
   ]
  },
  {
   "cell_type": "code",
   "execution_count": 5,
   "id": "51a13af6-6425-4fc0-b8c0-0d802b18d831",
   "metadata": {},
   "outputs": [
    {
     "data": {
      "text/plain": [
       "array([[0., 0.],\n",
       "       [0., 0.]])"
      ]
     },
     "execution_count": 5,
     "metadata": {},
     "output_type": "execute_result"
    }
   ],
   "source": [
    "np.zeros((2,2))"
   ]
  },
  {
   "cell_type": "code",
   "execution_count": 6,
   "id": "648944e9-0b93-42cb-8002-99ad710d434a",
   "metadata": {},
   "outputs": [
    {
     "data": {
      "text/plain": [
       "array([[1., 1.]])"
      ]
     },
     "execution_count": 6,
     "metadata": {},
     "output_type": "execute_result"
    }
   ],
   "source": [
    "np.ones((1,2))"
   ]
  },
  {
   "cell_type": "code",
   "execution_count": 9,
   "id": "7168cf15-c01b-467f-be40-e7735e99ba2c",
   "metadata": {},
   "outputs": [
    {
     "data": {
      "text/plain": [
       "array([[1., 0., 0., 0., 0.],\n",
       "       [0., 1., 0., 0., 0.],\n",
       "       [0., 0., 1., 0., 0.],\n",
       "       [0., 0., 0., 1., 0.],\n",
       "       [0., 0., 0., 0., 1.]])"
      ]
     },
     "execution_count": 9,
     "metadata": {},
     "output_type": "execute_result"
    }
   ],
   "source": [
    "np.eye(5)"
   ]
  },
  {
   "cell_type": "code",
   "execution_count": 14,
   "id": "1cfffea7-f819-4e2f-b80f-9ac7e22bb807",
   "metadata": {},
   "outputs": [
    {
     "data": {
      "text/plain": [
       "array([[3, 2, 2, 3],\n",
       "       [3, 3, 4, 3]])"
      ]
     },
     "execution_count": 14,
     "metadata": {},
     "output_type": "execute_result"
    }
   ],
   "source": [
    "# 随机整数\n",
    "np.random.randint(low=2,high=5, size=(2, 4))"
   ]
  },
  {
   "cell_type": "code",
   "execution_count": 21,
   "id": "d4f54ef6-5b6e-4197-b8d8-56c495874d68",
   "metadata": {},
   "outputs": [
    {
     "data": {
      "text/plain": [
       "array([[ 1.03806847,  1.30595235,  0.06558312,  1.23667291],\n",
       "       [ 0.7788566 , -0.72952277, -0.93757795,  1.01725608]])"
      ]
     },
     "execution_count": 21,
     "metadata": {},
     "output_type": "execute_result"
    }
   ],
   "source": [
    "# 标准正太分布\n",
    "np.random.randn(2,4)"
   ]
  },
  {
   "cell_type": "code",
   "execution_count": 25,
   "id": "323a3be0-a97a-4c95-84d9-a7986bc64355",
   "metadata": {},
   "outputs": [
    {
     "data": {
      "text/plain": [
       "(array([[0.43472006, 0.00771173, 0.51172634, 0.62719718],\n",
       "        [0.7879999 , 0.80087178, 0.15814746, 0.68833809]]),\n",
       " array([[0.78627737, 0.1602448 , 0.36501283, 0.0379657 ],\n",
       "        [0.53098944, 0.57668558, 0.86067682, 0.72395911]]))"
      ]
     },
     "execution_count": 25,
     "metadata": {},
     "output_type": "execute_result"
    }
   ],
   "source": [
    "# 0-1之间的随机，两种方法一样不过参数形式不一样，后者接受一个元组\n",
    "np.random.rand(2,4),np.random.random((2,4))"
   ]
  },
  {
   "cell_type": "markdown",
   "id": "a34a7ac5-ef64-4c6d-8dec-9515577c07cf",
   "metadata": {},
   "source": [
    "# 索引切片"
   ]
  },
  {
   "cell_type": "code",
   "execution_count": 33,
   "id": "c087ca6c-3e7c-40ba-a34f-74d3dab73a87",
   "metadata": {},
   "outputs": [],
   "source": [
    "# Create the following rank 2 array with shape (3, 4)\n",
    "# [[ 1  2  3  4]\n",
    "#  [ 5  6  7  8]\n",
    "#  [ 9 10 11 12]]\n",
    "a = np.array([[1,2,3,4], [5,6,7,8], [9,10,11,12]])"
   ]
  },
  {
   "cell_type": "code",
   "execution_count": 36,
   "id": "4111b14a-d084-4a02-940e-1b16d9a47dbc",
   "metadata": {},
   "outputs": [
    {
     "data": {
      "text/plain": [
       "(array([1, 2, 3, 4]), 8)"
      ]
     },
     "execution_count": 36,
     "metadata": {},
     "output_type": "execute_result"
    }
   ],
   "source": [
    "a[0,:],a[1,3]"
   ]
  },
  {
   "cell_type": "code",
   "execution_count": 37,
   "id": "54ea0a74-c43b-44c5-9300-9dc7607ddf9c",
   "metadata": {},
   "outputs": [
    {
     "data": {
      "text/plain": [
       "array([ 6,  7,  8,  9, 10, 11, 12])"
      ]
     },
     "execution_count": 37,
     "metadata": {},
     "output_type": "execute_result"
    }
   ],
   "source": [
    "# 布尔索引\n",
    "a[a>5]"
   ]
  },
  {
   "cell_type": "markdown",
   "id": "c7add43b-e857-4d6c-8cd9-0f9a4adcca4b",
   "metadata": {},
   "source": [
    "# 数据类型"
   ]
  },
  {
   "cell_type": "code",
   "execution_count": 43,
   "id": "36fa2456-4f47-4a4f-bc86-f5470364f629",
   "metadata": {},
   "outputs": [
    {
     "data": {
      "text/plain": [
       "dtype('int32')"
      ]
     },
     "execution_count": 43,
     "metadata": {},
     "output_type": "execute_result"
    }
   ],
   "source": [
    "a = np.array([1.1, 1.2],dtype = np.int32)\n",
    "a.dtype"
   ]
  },
  {
   "cell_type": "code",
   "execution_count": 44,
   "id": "6732e5c7-d119-49bd-b33f-b1001797d4f3",
   "metadata": {},
   "outputs": [],
   "source": [
    "b = a.astype(np.float32)"
   ]
  },
  {
   "cell_type": "code",
   "execution_count": 45,
   "id": "0f592eda-9c5b-44ac-a4c0-8cc909f80d33",
   "metadata": {},
   "outputs": [
    {
     "data": {
      "text/plain": [
       "(dtype('int32'), dtype('float32'))"
      ]
     },
     "execution_count": 45,
     "metadata": {},
     "output_type": "execute_result"
    }
   ],
   "source": [
    "a.dtype, b.dtype"
   ]
  },
  {
   "cell_type": "markdown",
   "id": "18462673-b4ba-44cc-800e-d40212069d07",
   "metadata": {},
   "source": [
    "# 数学计算"
   ]
  },
  {
   "cell_type": "code",
   "execution_count": 47,
   "id": "a8e3df1d-a950-4505-9eba-44f717ca9409",
   "metadata": {},
   "outputs": [
    {
     "data": {
      "text/plain": [
       "(array([[19, 22],\n",
       "        [43, 50]]),\n",
       " array([[ 5, 12],\n",
       "        [21, 32]]))"
      ]
     },
     "execution_count": 47,
     "metadata": {},
     "output_type": "execute_result"
    }
   ],
   "source": [
    "# 矩阵计算,直接用*表示的是点乘\n",
    "x = np.array([[1,2],[3,4]])\n",
    "y = np.array([[5,6],[7,8]])\n",
    "np.dot(x,y)"
   ]
  },
  {
   "cell_type": "code",
   "execution_count": 52,
   "id": "45a69603-fcee-46db-a51c-a96e83750923",
   "metadata": {},
   "outputs": [
    {
     "data": {
      "text/plain": [
       "(10,\n",
       " array([4, 6]),\n",
       " array([3, 7]),\n",
       " array([[1, 3],\n",
       "        [2, 4]]))"
      ]
     },
     "execution_count": 52,
     "metadata": {},
     "output_type": "execute_result"
    }
   ],
   "source": [
    "# 求和,axis=0表示沿着行累加\n",
    "x = np.array([[1,2],\n",
    "              [3,4]])\n",
    "x.sum(),x.sum(axis=0),x.sum(axis=1),x.T"
   ]
  },
  {
   "cell_type": "code",
   "execution_count": 54,
   "id": "84611852-7830-4748-92f9-ed2704cda92a",
   "metadata": {},
   "outputs": [
    {
     "data": {
      "text/plain": [
       "(4, array([2., 3.]))"
      ]
     },
     "execution_count": 54,
     "metadata": {},
     "output_type": "execute_result"
    }
   ],
   "source": [
    "# 最大值，均值\n",
    "x.max(),x.mean(axis=0)"
   ]
  },
  {
   "cell_type": "code",
   "execution_count": 57,
   "id": "d1c82823-70ce-477f-a1fb-018507c26b88",
   "metadata": {},
   "outputs": [
    {
     "data": {
      "text/plain": [
       "array([[1],\n",
       "       [2],\n",
       "       [3],\n",
       "       [4]])"
      ]
     },
     "execution_count": 57,
     "metadata": {},
     "output_type": "execute_result"
    }
   ],
   "source": [
    "# 转换维度\n",
    "x.reshape(-1,1)"
   ]
  },
  {
   "cell_type": "markdown",
   "id": "7e3e7199-bcd7-47cf-86de-61f3866a8b65",
   "metadata": {},
   "source": [
    "# np叠加"
   ]
  },
  {
   "cell_type": "code",
   "execution_count": 58,
   "id": "bfe8d32b-344f-4133-b4c3-cd5415a94846",
   "metadata": {},
   "outputs": [],
   "source": [
    "a=[1,2,3,4]\n",
    "b=[5,6,7,8]\n",
    "c=[9,10,11,12]"
   ]
  },
  {
   "cell_type": "code",
   "execution_count": 61,
   "id": "90e78591-e294-4aac-ba7b-34bf12ee4c8f",
   "metadata": {},
   "outputs": [
    {
     "data": {
      "text/plain": [
       "array([ 1,  2,  3,  4,  5,  6,  7,  8,  9, 10, 11, 12])"
      ]
     },
     "execution_count": 61,
     "metadata": {},
     "output_type": "execute_result"
    }
   ],
   "source": [
    "# 横向叠加\n",
    "np.hstack((a,b,c))"
   ]
  },
  {
   "cell_type": "code",
   "execution_count": 64,
   "id": "76213f4e-4cf1-4c35-b89f-6d37e24ae9b1",
   "metadata": {},
   "outputs": [
    {
     "data": {
      "text/plain": [
       "array([[ 1,  2,  3,  4],\n",
       "       [ 5,  6,  7,  8],\n",
       "       [ 9, 10, 11, 12]])"
      ]
     },
     "execution_count": 64,
     "metadata": {},
     "output_type": "execute_result"
    }
   ],
   "source": [
    "# 纵向叠加\n",
    "np.vstack((a,b,c))"
   ]
  }
 ],
 "metadata": {
  "kernelspec": {
   "display_name": "Python 3",
   "language": "python",
   "name": "python3"
  },
  "language_info": {
   "codemirror_mode": {
    "name": "ipython",
    "version": 3
   },
   "file_extension": ".py",
   "mimetype": "text/x-python",
   "name": "python",
   "nbconvert_exporter": "python",
   "pygments_lexer": "ipython3",
   "version": "3.8.8"
  }
 },
 "nbformat": 4,
 "nbformat_minor": 5
}
